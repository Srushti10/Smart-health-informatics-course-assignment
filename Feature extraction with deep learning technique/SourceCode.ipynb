{
 "cells": [
  {
   "cell_type": "code",
   "execution_count": 1,
   "metadata": {},
   "outputs": [],
   "source": [
    "import pandas as pd\n",
    "import numpy as np\n",
    "import seaborn as sns\n",
    "import matplotlib.pyplot as plt\n",
    "import os\n",
    "import shutil\n",
    "import cv2"
   ]
  },
  {
   "cell_type": "code",
   "execution_count": 2,
   "metadata": {},
   "outputs": [],
   "source": [
    "from os import listdir\n",
    "\n",
    "# Set the src as the folder which contains the dataset DS\n",
    "src = \"C:/Users/srush/Documents/Python/Assignment3_1102484\"\n",
    "\n",
    "images = list()\n",
    "classLabel = list()\n",
    "for imagename in listdir(src+'/DS/'):\n",
    "    classLabel.append(imagename.split('_')[0])\n",
    "    # load image\n",
    "    img = cv2.imread(src + '/DS/' + imagename)\n",
    "    # Resize and store loaded image\n",
    "    imgnew = cv2.resize(img,(32,32))\n",
    "    images.append(imgnew)"
   ]
  },
  {
   "cell_type": "code",
   "execution_count": 3,
   "metadata": {},
   "outputs": [],
   "source": [
    "images = np.array(images, dtype = 'float64')"
   ]
  },
  {
   "cell_type": "code",
   "execution_count": 4,
   "metadata": {},
   "outputs": [],
   "source": [
    "# Splitting training and testing of the numpy array of images\n",
    "from sklearn.model_selection import train_test_split\n",
    "\n",
    "\n",
    "X_train, X_test = train_test_split(images, test_size=0.20, random_state=42)\n",
    "y_train, y_test = train_test_split(classLabel, test_size=0.20, random_state=42)"
   ]
  },
  {
   "cell_type": "code",
   "execution_count": 5,
   "metadata": {},
   "outputs": [],
   "source": [
    "# Creating a directory for storing the images for training set for data augmentation\n",
    "\n",
    "trainDir = src + '/trainfolder/train'\n",
    "if os.path.exists(trainDir):\n",
    "    print('Deleted exisitng folder')\n",
    "    shutil.rmtree(trainDir)\n",
    "\n",
    "os.makedirs(trainDir)"
   ]
  },
  {
   "cell_type": "code",
   "execution_count": 6,
   "metadata": {},
   "outputs": [],
   "source": [
    "# Getting random images for storing it in the training folder created\n",
    "\n",
    "imageNames = os.listdir(src+'/DS')\n",
    "np.random.shuffle(imageNames)\n",
    "trainImages, testImages = np.split(np.array(imageNames),[int(len(imageNames)*0.8)])\n",
    "\n",
    "trainFiles = [src+'/DS/'+ file for file in trainImages.tolist()]"
   ]
  },
  {
   "cell_type": "code",
   "execution_count": 7,
   "metadata": {},
   "outputs": [],
   "source": [
    "# Copying images in the training folder\n",
    "for file in trainFiles:\n",
    "    shutil.copy(file, \"trainfolder/train\")"
   ]
  },
  {
   "cell_type": "code",
   "execution_count": 8,
   "metadata": {},
   "outputs": [
    {
     "name": "stdout",
     "output_type": "stream",
     "text": [
      "Found 1200 images belonging to 1 classes.\n"
     ]
    }
   ],
   "source": [
    "# Using image generator for data augmentation on the training set\n",
    "\n",
    "from tensorflow.keras.preprocessing.image import ImageDataGenerator  \n",
    "\n",
    "trainImageGen = ImageDataGenerator(rescale=1./255)\n",
    "train_augData = trainImageGen.flow_from_directory(\n",
    "        directory=src + '/trainfolder',\n",
    "        target_size=(32, 32),\n",
    "        batch_size=32,\n",
    "        class_mode='categorical')\n"
   ]
  },
  {
   "cell_type": "code",
   "execution_count": 9,
   "metadata": {},
   "outputs": [],
   "source": [
    "# Creating CNN model for feature extraction\n",
    "\n",
    "import tensorflow\n",
    "from tensorflow.keras.models import Sequential\n",
    "from tensorflow.keras.layers import Dense, Activation\n",
    "\n",
    "from tensorflow.keras.layers import Conv2D, MaxPooling2D, Dropout, Flatten, BatchNormalization\n",
    "\n",
    "\n",
    "# CNN MODEL CREATION\n",
    "\n",
    "modelCNN = Sequential()\n",
    "\n",
    "# Model with 2 convolution layers and 3 fully connected layers\n",
    "modelCNN.add(Conv2D(filters=64,kernel_size=3,activation='relu',input_shape = (32,32,3)))\n",
    "modelCNN.add(BatchNormalization())\n",
    "modelCNN.add(MaxPooling2D(pool_size=2))\n",
    "modelCNN.add(Conv2D(filters=32, kernel_size=3, activation='relu'))\n",
    "modelCNN.add(BatchNormalization())\n",
    "modelCNN.add(MaxPooling2D(pool_size=2))\n",
    "modelCNN.add(Flatten())\n",
    "modelCNN.add(Dense(10, activation='relu'))\n",
    "modelCNN.add(Dense(10, activation='relu'))\n",
    "modelCNN.add(Dense(1))\n",
    "\n",
    "# Using adam as optimizer \n",
    "modelCNN.compile(optimizer = 'adam', loss = 'categorical_crossentropy',metrics=['accuracy'])\n",
    "\n"
   ]
  },
  {
   "cell_type": "code",
   "execution_count": 10,
   "metadata": {},
   "outputs": [
    {
     "name": "stdout",
     "output_type": "stream",
     "text": [
      "Train for 38 steps\n",
      "38/38 [==============================] - 7s 174ms/step - loss: nan - accuracy: 0.0000e+00\n"
     ]
    },
    {
     "data": {
      "text/plain": [
       "<tensorflow.python.keras.callbacks.History at 0x1a29b4c8e48>"
      ]
     },
     "execution_count": 10,
     "metadata": {},
     "output_type": "execute_result"
    }
   ],
   "source": [
    "# Training the CNN model on augmented training dataset\n",
    "\n",
    "modelCNN.fit(train_augData)"
   ]
  },
  {
   "cell_type": "code",
   "execution_count": 11,
   "metadata": {},
   "outputs": [],
   "source": [
    "from tensorflow.keras.models import load_model\n",
    "#modelCNN.save('my_modelCNN_1102484.h5')  # creates a HDF5 file 'my_model.h5'\n",
    "modelCNN = load_model('my_modelCNN_1102484.h5')"
   ]
  },
  {
   "cell_type": "code",
   "execution_count": 12,
   "metadata": {},
   "outputs": [
    {
     "name": "stdout",
     "output_type": "stream",
     "text": [
      "Model: \"model\"\n",
      "_________________________________________________________________\n",
      "Layer (type)                 Output Shape              Param #   \n",
      "=================================================================\n",
      "conv2d_input (InputLayer)    [(None, 32, 32, 3)]       0         \n",
      "_________________________________________________________________\n",
      "conv2d (Conv2D)              (None, 30, 30, 64)        1792      \n",
      "_________________________________________________________________\n",
      "batch_normalization (BatchNo (None, 30, 30, 64)        256       \n",
      "_________________________________________________________________\n",
      "max_pooling2d (MaxPooling2D) (None, 15, 15, 64)        0         \n",
      "_________________________________________________________________\n",
      "conv2d_1 (Conv2D)            (None, 13, 13, 32)        18464     \n",
      "_________________________________________________________________\n",
      "batch_normalization_1 (Batch (None, 13, 13, 32)        128       \n",
      "_________________________________________________________________\n",
      "max_pooling2d_1 (MaxPooling2 (None, 6, 6, 32)          0         \n",
      "_________________________________________________________________\n",
      "flatten (Flatten)            (None, 1152)              0         \n",
      "_________________________________________________________________\n",
      "dense (Dense)                (None, 10)                11530     \n",
      "_________________________________________________________________\n",
      "dense_1 (Dense)              (None, 10)                110       \n",
      "=================================================================\n",
      "Total params: 32,280\n",
      "Trainable params: 32,088\n",
      "Non-trainable params: 192\n",
      "_________________________________________________________________\n"
     ]
    }
   ],
   "source": [
    "# Extracting the model till second last layer for feature extraction\n",
    "\n",
    "from tensorflow import keras\n",
    "\n",
    "extractedModel = keras.Model(inputs=modelCNN.inputs, outputs=modelCNN.layers[8].output)\n",
    "extractedModel.summary()"
   ]
  },
  {
   "cell_type": "code",
   "execution_count": 13,
   "metadata": {},
   "outputs": [],
   "source": [
    "X_train, X_test = train_test_split(images, test_size=0.20, random_state=42)\n",
    "y_train, y_test = train_test_split(classLabel, test_size=0.20, random_state=42)"
   ]
  },
  {
   "cell_type": "code",
   "execution_count": 14,
   "metadata": {},
   "outputs": [],
   "source": [
    "# Extracting the training and testing features from the CNN model extracted\n",
    "\n",
    "trainingFeatures = np.array(extractedModel(X_train))\n",
    "testingFeatures = np.array(extractedModel(X_test))"
   ]
  },
  {
   "cell_type": "code",
   "execution_count": 15,
   "metadata": {},
   "outputs": [
    {
     "data": {
      "text/plain": [
       "array([[ 6.118051,  0.      ,  0.      , ..., 17.328108,  0.      ,\n",
       "         0.      ],\n",
       "       [ 4.996817,  0.      ,  0.      , ..., 14.65056 ,  0.      ,\n",
       "         0.      ],\n",
       "       [25.764708,  0.      ,  0.      , ..., 33.874535, 16.728836,\n",
       "        30.921965],\n",
       "       ...,\n",
       "       [ 4.554864,  0.      ,  0.      , ..., 14.607115,  0.      ,\n",
       "         0.      ],\n",
       "       [11.474921,  0.      ,  0.      , ..., 22.744444, 12.650901,\n",
       "        32.139294],\n",
       "       [ 8.115867,  0.      ,  0.      , ..., 24.057217, 12.289771,\n",
       "        22.341087]], dtype=float32)"
      ]
     },
     "execution_count": 15,
     "metadata": {},
     "output_type": "execute_result"
    }
   ],
   "source": [
    "trainingFeatures"
   ]
  },
  {
   "cell_type": "code",
   "execution_count": 16,
   "metadata": {},
   "outputs": [],
   "source": [
    "from sklearn.neighbors import KNeighborsClassifier"
   ]
  },
  {
   "cell_type": "code",
   "execution_count": 17,
   "metadata": {},
   "outputs": [
    {
     "data": {
      "text/plain": [
       "Text(0, 0.5, 'Error Rate')"
      ]
     },
     "execution_count": 17,
     "metadata": {},
     "output_type": "execute_result"
    },
    {
     "data": {
      "image/png": "[encoded data removed]",
      "text/plain": [
       "<Figure size 720x432 with 1 Axes>"
      ]
     },
     "metadata": {
      "needs_background": "light"
     },
     "output_type": "display_data"
    }
   ],
   "source": [
    "# Function to show error rate for different values of k before chosing optimal k value\n",
    "\n",
    "error = []\n",
    "\n",
    "for i in range(1,10):\n",
    "    knnModel = KNeighborsClassifier(n_neighbors=i)\n",
    "    knnModel.fit(trainingFeatures,y_train)\n",
    "    predict = knnModel.predict(testingFeatures)\n",
    "    error.append(np.mean(predict != y_test))\n",
    "    \n",
    "\n",
    "# Plotting the error rate for different values of k\n",
    "plt.figure(figsize=(10,6))\n",
    "plt.plot(range(1,10),error,color='blue',marker='o')\n",
    "plt.title('Error Rate vs K Value')\n",
    "plt.xlabel('K')\n",
    "plt.ylabel('Error Rate')"
   ]
  },
  {
   "cell_type": "code",
   "execution_count": 18,
   "metadata": {
    "scrolled": true
   },
   "outputs": [
    {
     "data": {
      "text/plain": [
       "KNeighborsClassifier(algorithm='auto', leaf_size=30, metric='minkowski',\n",
       "                     metric_params=None, n_jobs=None, n_neighbors=3, p=2,\n",
       "                     weights='uniform')"
      ]
     },
     "execution_count": 18,
     "metadata": {},
     "output_type": "execute_result"
    }
   ],
   "source": [
    "# Training KNN model with optimal value of k\n",
    "\n",
    "knnModel = KNeighborsClassifier(n_neighbors=3)\n",
    "\n",
    "knnModel.fit(trainingFeatures,y_train)"
   ]
  },
  {
   "cell_type": "code",
   "execution_count": 19,
   "metadata": {},
   "outputs": [],
   "source": [
    "# Saving and loading the trained KNN model\n",
    "\n",
    "import pickle\n",
    "\n",
    "#pickle.dump(knnModel, open('1102484_KNN.pkl', 'wb'))\n",
    "knnModel = pickle.load(open('1102484_KNN.pkl', 'rb'))"
   ]
  },
  {
   "cell_type": "code",
   "execution_count": 20,
   "metadata": {},
   "outputs": [
    {
     "name": "stdout",
     "output_type": "stream",
     "text": [
      "Confusion Matrix for KNN:\n",
      "\n",
      "[[ 76  28   0]\n",
      " [ 18  68   0]\n",
      " [  1   0 109]]\n",
      "\n",
      "Classification Report for KNN:\n",
      "\n",
      "              precision    recall  f1-score   support\n",
      "\n",
      "     Abdomen       0.80      0.73      0.76       104\n",
      "       Chest       0.71      0.79      0.75        86\n",
      "        Head       1.00      0.99      1.00       110\n",
      "\n",
      "    accuracy                           0.84       300\n",
      "   macro avg       0.84      0.84      0.84       300\n",
      "weighted avg       0.85      0.84      0.84       300\n",
      "\n"
     ]
    }
   ],
   "source": [
    "# Function to predict using the saved or trained KNN model\n",
    "from sklearn.metrics import classification_report,confusion_matrix\n",
    "\n",
    "predictionsKNN = knnModel.predict(testingFeatures)\n",
    "\n",
    "print(\"Confusion Matrix for KNN:\\n\")\n",
    "print(confusion_matrix(y_test,predictionsKNN))\n",
    "\n",
    "print(\"\\nClassification Report for KNN:\\n\")\n",
    "print(classification_report(y_test,predictionsKNN))"
   ]
  },
  {
   "cell_type": "code",
   "execution_count": 21,
   "metadata": {},
   "outputs": [],
   "source": [
    "from sklearn.ensemble import RandomForestClassifier"
   ]
  },
  {
   "cell_type": "code",
   "execution_count": null,
   "metadata": {},
   "outputs": [],
   "source": [
    "# Function to show hyper parameter tuning for random forest\n",
    "\n",
    "errorForDifferentN = []\n",
    "\n",
    "# Determining error rate for different values (100-150) of n_estimator\n",
    "for i in range(100,200):\n",
    "    randomForestModel1 = RandomForestClassifier(n_estimators=i,max_features='sqrt')\n",
    "    randomForestModel1.fit(trainingFeatures,y_train)\n",
    "    predict1 = randomForestModel1.predict(testingFeatures)\n",
    "    errorForDifferentN.append(np.mean(predict1 != y_test))\n",
    "    \n",
    "    \n",
    "# Determining error rate for different values (50,100) of max_depth\n",
    "errorForDifferentMaxFeatures = []\n",
    "for i in range(10,100):\n",
    "    randomForestModel2 = RandomForestClassifier(n_estimators=132,max_depth=i)\n",
    "    randomForestModel2.fit(trainingFeatures,y_train)\n",
    "    predict2 = randomForestModel2.predict(testingFeatures)\n",
    "    errorForDifferentMaxFeatures.append(np.mean(predict2 != y_test))\n",
    "    \n",
    "# Plotting the error rate for different values of hyperparameters  \n",
    "plt.figure(figsize=(15,5))\n",
    "\n",
    "# Plotting for different values of n_estimators\n",
    "plt.subplot(1,2,1)\n",
    "plt.plot(range(100,200),errorForDifferentN,color='blue',marker='o')\n",
    "plt.title('Error Rate vs n-estimator Values')\n",
    "plt.xlabel('N')\n",
    "plt.ylabel('Error Rate')\n",
    "\n",
    "\n",
    "# Plotting for different values of max_features\n",
    "plt.subplot(1,2,2)  \n",
    "plt.plot(range(10,100),errorForDifferentMaxFeatures,color='red',marker='o')\n",
    "plt.title('Error Rate vs max_depth Value')\n",
    "plt.xlabel('Maximum depth of the tree')\n",
    "plt.ylabel('Error Rate')\n",
    "\n",
    "plt.show()"
   ]
  },
  {
   "cell_type": "code",
   "execution_count": null,
   "metadata": {},
   "outputs": [],
   "source": [
    "# HYPERPARAMETER TUNING USING RANDOM SEARCH\n",
    "\n",
    "n_estimators = [100,110,120,130,140,150,160,170,180,190,200]\n",
    "max_depth = [10,20,30,40,50,60,70,80,90,100]\n",
    "bootstrap = [True, False]\n",
    "\n",
    "hyperParameterGrid = {'n_estimators': n_estimators,\n",
    "                       'max_depth': max_depth,\n",
    "                       'bootstrap': bootstrap}\n",
    "\n",
    "print(hyperParameterGrid)"
   ]
  },
  {
   "cell_type": "code",
   "execution_count": null,
   "metadata": {},
   "outputs": [],
   "source": [
    "# Function to train using random search\n",
    "\n",
    "from sklearn.model_selection import RandomizedSearchCV\n",
    "\n",
    "RFModel_RandomSearch = RandomForestClassifier()\n",
    "\n",
    "randomSearchModel = RandomizedSearchCV(estimator = RFModel_RandomSearch, param_distributions = hyperParameterGrid, n_iter = 10, cv = 3, verbose=2, random_state=101)\n",
    "randomSearchModel.fit(trainingFeatures, y_train)"
   ]
  },
  {
   "cell_type": "code",
   "execution_count": null,
   "metadata": {},
   "outputs": [],
   "source": [
    "print(\"Best parameters selected for RF: \\n\")\n",
    "print(randomSearchModel.best_params_)"
   ]
  },
  {
   "cell_type": "code",
   "execution_count": null,
   "metadata": {},
   "outputs": [],
   "source": [
    "# Function to evaluate the base model and model with tuned hyper-parameters\n",
    "\n",
    "def predict(model,testFeatures, y_test):\n",
    "    predictions = model.predict(testFeatures)\n",
    "    errorPercent = 100 * np.mean(predictions != y_test)\n",
    "    accuracy = 100 - errorPercent\n",
    "    return accuracy\n",
    "    \n",
    "# Prediction with base model\n",
    "randomForestModel_Base = RandomForestClassifier(n_estimators = 5, random_state = 44)\n",
    "randomForestModel_Base.fit(trainingFeatures, y_train)\n",
    "accuracy1 = predict(randomForestModel_Base, testingFeatures, y_test)\n",
    "print(\"Accuracy for base RF model: \",accuracy1,\"%\")\n",
    " \n",
    "# Prediction with model considering best hyper=parameters\n",
    "randomForestModel = randomSearchModel.best_estimator_\n",
    "accuracy2 = predict(randomForestModel, testingFeatures, y_test)\n",
    "print(\"Accuracy for RF model with best parameters: \",accuracy2,\"%\")"
   ]
  },
  {
   "cell_type": "code",
   "execution_count": null,
   "metadata": {},
   "outputs": [],
   "source": [
    "# Saving and loading the trained Random Forest model\n",
    "\n",
    "import pickle\n",
    "\n",
    "#pickle.dump(randomForestModel_Best, open('1102484_RF.pkl', 'wb'))\n",
    "randomForestModel = pickle.load(open('1102484_RF.pkl', 'rb'))"
   ]
  },
  {
   "cell_type": "code",
   "execution_count": null,
   "metadata": {},
   "outputs": [],
   "source": [
    "# Function to predict using the saved or trained random forest model\n",
    "from sklearn.metrics import classification_report,confusion_matrix\n",
    "\n",
    "predictionsRF = randomForestModel.predict(testingFeatures)\n",
    "\n",
    "print(\"Confusion Matrix for Random Forest:\\n\")\n",
    "print(confusion_matrix(y_test,predictionsRF))\n",
    "\n",
    "print(\"Classification Report for Random Forest:\\n\")\n",
    "print(classification_report(y_test,predictionsRF))"
   ]
  }
 ],
 "metadata": {
  "kernelspec": {
   "display_name": "Python 3",
   "language": "python",
   "name": "python3"
  },
  "language_info": {
   "codemirror_mode": {
    "name": "ipython",
    "version": 3
   },
   "file_extension": ".py",
   "mimetype": "text/x-python",
   "name": "python",
   "nbconvert_exporter": "python",
   "pygments_lexer": "ipython3",
   "version": "3.7.3"
  }
 },
 "nbformat": 4,
 "nbformat_minor": 2
}
